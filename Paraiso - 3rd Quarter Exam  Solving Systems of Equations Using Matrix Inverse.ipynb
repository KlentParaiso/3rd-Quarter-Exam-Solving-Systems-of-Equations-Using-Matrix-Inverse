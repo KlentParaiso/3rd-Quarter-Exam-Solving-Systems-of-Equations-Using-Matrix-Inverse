{
 "cells": [
  {
   "cell_type": "markdown",
   "id": "e276e5e8-1057-4fe9-ba06-f16cbd8b6607",
   "metadata": {},
   "source": [
    "# Klent Paraiso BSCS-3 \n",
    "# 3rd Quarter Exam : Solving Systems of Equations Using Matrix Inverse "
   ]
  },
  {
   "cell_type": "markdown",
   "id": "5a8b34fb-d925-41e6-aec5-084732696898",
   "metadata": {},
   "source": [
    "# Part 1: Theory"
   ]
  },
  {
   "cell_type": "code",
   "execution_count": 5,
   "id": "1f2d354d-0923-4716-b02e-fb83d6db481a",
   "metadata": {},
   "outputs": [
    {
     "name": "stdout",
     "output_type": "stream",
     "text": [
      "The solution vector X is:\n",
      "[ 0.9057971  -0.99275362 -0.26811594  1.7173913   1.02173913]\n"
     ]
    }
   ],
   "source": [
    "import numpy as np\n",
    "\n",
    "# Step 1: Define the matrix A (5x5) and vector B (5x1)\n",
    "A = np.array([[3, 2, -1, 0, 0],\n",
    "              [2, -1, 3, 0, 0],\n",
    "              [1, 2, 4, 3, 0],\n",
    "              [0, 1, -2, 2, 1],\n",
    "              [0, 0, 3, 1, 4]])\n",
    "\n",
    "B = np.array([1, 2, 3, 4, 5])\n",
    "\n",
    "# Step 2: Calculate the inverse of matrix A\n",
    "A_inv = np.linalg.inv(A)\n",
    "\n",
    "# Step 3: Calculate the solution vector X\n",
    "X = np.dot(A_inv, B)\n",
    "\n",
    "# Step 4: Display the solution\n",
    "print(\"The solution vector X is:\")\n",
    "print(X)\n"
   ]
  },
  {
   "cell_type": "markdown",
   "id": "ce9300b3-b7e0-4791-911d-601a18102320",
   "metadata": {},
   "source": [
    "# Part 2: Application to Real-World Computer Science Problem"
   ]
  },
  {
   "cell_type": "code",
   "execution_count": 10,
   "id": "1d0c8901-e742-46a8-a979-a18d633679b7",
   "metadata": {},
   "outputs": [
    {
     "name": "stdout",
     "output_type": "stream",
     "text": [
      "The data flow between the servers (x1, x2, x3, x4, x5) is:\n",
      "[ 7.36462094 32.23826715 -1.62454874 15.05415162 16.93140794]\n"
     ]
    }
   ],
   "source": [
    "\n",
    "# Step 1: Define the coefficient matrix A (5x5) and the constant vector B (5x1)\n",
    "A = np.array([[3, 2, 1, 1, 0],\n",
    "              [1, 4, 2, 0, 1],\n",
    "              [2, 3, 4, 1, 0],\n",
    "              [1, 1, 3, 5, 0],\n",
    "              [0, 1, 2, 4, 3]])\n",
    "\n",
    "B = np.array([100, 150, 120, 110, 140])\n",
    "\n",
    "# Step 2: Calculate the inverse of matrix A\n",
    "A_inv = np.linalg.inv(A)\n",
    "\n",
    "# Step 3: Calculate the solution vector X (the data flows between servers)\n",
    "X = np.dot(A_inv, B)\n",
    "\n",
    "# Step 4: Display the solution\n",
    "print(\"The data flow between the servers (x1, x2, x3, x4, x5) is:\")\n",
    "print(X)\n"
   ]
  },
  {
   "cell_type": "markdown",
   "id": "7fad6892-1a69-429f-8a64-0c901d068e10",
   "metadata": {},
   "source": [
    "# Part 3: Step-by-Stel Instructions"
   ]
  },
  {
   "cell_type": "code",
   "execution_count": 15,
   "id": "69506a74-dcbf-4029-9c23-6934e3df1dde",
   "metadata": {},
   "outputs": [
    {
     "name": "stdout",
     "output_type": "stream",
     "text": [
      "Determinant of A: 277.0000000000002\n",
      "Solution (Unknowns):\n",
      "[ 7.36462094 32.23826715 -1.62454874 15.05415162 16.93140794]\n"
     ]
    }
   ],
   "source": [
    "\n",
    "\n",
    "# Step 1: Define the coefficient matrix A (5x5 matrix)\n",
    "A = np.array([\n",
    "    [3, 2, 1, 1, 0],\n",
    "    [1, 4, 2, 0, 1],\n",
    "    [2, 3, 4, 1, 0],\n",
    "    [1, 1, 3, 5, 0],\n",
    "    [0, 1, 2, 4, 3]\n",
    "])\n",
    "\n",
    "# Step 2: Define the constant matrix B (5x1 matrix)\n",
    "B = np.array([100, 150, 120, 110, 140])\n",
    "\n",
    "# Step 3: Check if matrix A is invertible (determinant should not be zero)\n",
    "det_A = np.linalg.det(A)\n",
    "print(f\"Determinant of A: {det_A}\")\n",
    "\n",
    "if det_A == 0:\n",
    "    print(\"Matrix A is singular and cannot be inverted!\")\n",
    "else:\n",
    "    # Step 4: Find the inverse of matrix A\n",
    "    A_inv = np.linalg.inv(A)\n",
    "\n",
    "    # Step 5: Solve for X using the matrix inverse method\n",
    "    X = np.dot(A_inv, B)\n",
    "\n",
    "    # Step 6: Display the solution (unknowns)\n",
    "    print(\"Solution (Unknowns):\")\n",
    "    print(X)\n"
   ]
  },
  {
   "cell_type": "markdown",
   "id": "ce4df037-7208-4eed-9f59-c90a75876dfa",
   "metadata": {},
   "source": [
    "# Part 4: Practice Problems\n",
    "# Problem 1"
   ]
  },
  {
   "cell_type": "code",
   "execution_count": 20,
   "id": "655ab4db-0ccc-4c70-92ef-6d3401f21323",
   "metadata": {},
   "outputs": [
    {
     "name": "stdout",
     "output_type": "stream",
     "text": [
      "Determinant of A: 38.99999999999999\n",
      "Solution (Unknowns):\n",
      "[2.64102564 1.61538462 1.8974359 ]\n"
     ]
    }
   ],
   "source": [
    "\n",
    "# Define the coefficient matrix A (3x3 matrix)\n",
    "A = np.array([\n",
    "    [2, 1, -1],\n",
    "    [-1, 3, 2],\n",
    "    [1, -2, 4]\n",
    "])\n",
    "\n",
    "# Define the constant matrix B (3x1 matrix)\n",
    "B = np.array([5, 6, 7])\n",
    "\n",
    "# Check if matrix A is invertible (determinant should not be zero)\n",
    "det_A = np.linalg.det(A)\n",
    "print(f\"Determinant of A: {det_A}\")\n",
    "\n",
    "if det_A == 0:\n",
    "    print(\"Matrix A is singular and cannot be inverted!\")\n",
    "else:\n",
    "    # Find the inverse of matrix A\n",
    "    A_inv = np.linalg.inv(A)\n",
    "\n",
    "    # Solve for X using the matrix inverse method\n",
    "    X = np.dot(A_inv, B)\n",
    "\n",
    "    # Display the solution (unknowns)\n",
    "    print(\"Solution (Unknowns):\")\n",
    "    print(X)\n"
   ]
  },
  {
   "cell_type": "markdown",
   "id": "43ac8668-3218-4d47-8c60-cf128ac9ea8f",
   "metadata": {},
   "source": [
    "# Problem 2"
   ]
  },
  {
   "cell_type": "code",
   "execution_count": 22,
   "id": "9f75bcfc-1b86-40eb-a02d-9f92579fc458",
   "metadata": {},
   "outputs": [
    {
     "name": "stdout",
     "output_type": "stream",
     "text": [
      "Determinant of A: 225.0\n",
      "Solution (Unknowns):\n",
      "[ -23.86666667  137.6        -336.          242.53333333  241.86666667]\n"
     ]
    }
   ],
   "source": [
    "\n",
    "\n",
    "# Define the coefficient matrix A (5x5 matrix)\n",
    "A = np.array([\n",
    "    [5, 3, 1, 1, 0],\n",
    "    [4, 6, 2, 0, 1],\n",
    "    [2, 7, 3, 1, 0],\n",
    "    [1, 2, 4, 5, 0],\n",
    "    [3, 4, 5, 0, 6]\n",
    "])\n",
    "\n",
    "# Define the constant matrix B (5x1 matrix)\n",
    "B = np.array([200, 300, 150, 120, 250])\n",
    "\n",
    "# Check if matrix A is invertible (determinant should not be zero)\n",
    "det_A = np.linalg.det(A)\n",
    "print(f\"Determinant of A: {det_A}\")\n",
    "\n",
    "if det_A == 0:\n",
    "    print(\"Matrix A is singular and cannot be inverted!\")\n",
    "else:\n",
    "    # Find the inverse of matrix A\n",
    "    A_inv = np.linalg.inv(A)\n",
    "\n",
    "    # Solve for X using the matrix inverse method\n",
    "    X = np.dot(A_inv, B)\n",
    "\n",
    "    # Display the solution (unknowns)\n",
    "    print(\"Solution (Unknowns):\")\n",
    "    print(X)\n"
   ]
  },
  {
   "cell_type": "markdown",
   "id": "b028f6ba-770f-4e61-9cd6-9a6433e60ec9",
   "metadata": {},
   "source": [
    "# Problem 3"
   ]
  },
  {
   "cell_type": "code",
   "execution_count": 32,
   "id": "cb4f1ed9-870c-4de5-8a39-2e885d066044",
   "metadata": {},
   "outputs": [
    {
     "name": "stdout",
     "output_type": "stream",
     "text": [
      "Determinant of A: -39825.999999999956\n",
      "Solution (Unknowns):\n",
      "[ 3.20883343  0.46778486  1.45093657  3.88979561 -5.36345603 -0.78591875\n",
      "  6.38602923]\n"
     ]
    }
   ],
   "source": [
    "import numpy as np\n",
    "\n",
    "# Step 1: Define the coefficient matrix A (7x7 matrix) with actual values\n",
    "A = np.array([\n",
    "    [2, 3, 1, 4, 5, 1, 2],\n",
    "    [4, 6, 2, 1, 3, 7, 3],\n",
    "    [1, 2, 3, 4, 2, 6, 1],\n",
    "    [5, 3, 2, 1, 4, 6, 5],\n",
    "    [3, 2, 1, 5, 3, 4, 2],\n",
    "    [4, 5, 6, 3, 1, 2, 1],\n",
    "    [1, 2, 1, 4, 2, 3, 5]\n",
    "])\n",
    "\n",
    "# Step 2: Define the constant matrix B (7x1 matrix) with actual values\n",
    "B = np.array([10, 20, 15, 30, 25, 35, 40])\n",
    "\n",
    "# Step 3: Check if matrix A is invertible (determinant should not be zero)\n",
    "det_A = np.linalg.det(A)\n",
    "print(f\"Determinant of A: {det_A}\")\n",
    "\n",
    "if det_A == 0:\n",
    "    print(\"Matrix A is singular and cannot be inverted!\")\n",
    "else:\n",
    "    # Step 4: Find the inverse of matrix A\n",
    "    A_inv = np.linalg.inv(A)\n",
    "\n",
    "    # Step 5: Solve for X using the matrix inverse method\n",
    "    X = np.dot(A_inv, B)\n",
    "\n",
    "    # Step 6: Display the solution (unknowns)\n",
    "    print(\"Solution (Unknowns):\")\n",
    "    print(X)\n"
   ]
  },
  {
   "cell_type": "markdown",
   "id": "10454444-d7ff-4f07-9a3a-4b47b34d5bd7",
   "metadata": {},
   "source": [
    "# Problem 4"
   ]
  },
  {
   "cell_type": "code",
   "execution_count": 35,
   "id": "68df3fe7-55ca-43c5-a582-5c79c14325c3",
   "metadata": {},
   "outputs": [
    {
     "name": "stdout",
     "output_type": "stream",
     "text": [
      "Determinant of A: -30.000000000000004\n",
      "Solution (Unknowns):\n",
      "[-133.33333333  293.33333333   80.         -106.66666667  -33.33333333]\n"
     ]
    }
   ],
   "source": [
    "\n",
    "# Step 1: Define the coefficient matrix A (5x5 matrix) with the actual values\n",
    "A = np.array([\n",
    "    [2, 3, 1, 4, 5],\n",
    "    [1, 2, 3, 4, 2],\n",
    "    [3, 4, 5, 6, 7],\n",
    "    [4, 5, 6, 7, 8],\n",
    "    [2, 4, 1, 3, 5]\n",
    "])\n",
    "\n",
    "# Step 2: Define the constant matrix B (5x1 matrix) with the actual values\n",
    "B = np.array([100, 200, 300, 400, 500])\n",
    "\n",
    "# Step 3: Check if matrix A is invertible (determinant should not be zero)\n",
    "det_A = np.linalg.det(A)\n",
    "print(f\"Determinant of A: {det_A}\")\n",
    "\n",
    "if det_A == 0:\n",
    "    print(\"Matrix A is singular and cannot be inverted!\")\n",
    "else:\n",
    "    # Step 4: Find the inverse of matrix A\n",
    "    A_inv = np.linalg.inv(A)\n",
    "\n",
    "    # Step 5: Solve for X using the matrix inverse method\n",
    "    X = np.dot(A_inv, B)\n",
    "\n",
    "    # Step 6: Display the solution (unknowns)\n",
    "    print(\"Solution (Unknowns):\")\n",
    "    print(X)\n"
   ]
  },
  {
   "cell_type": "markdown",
   "id": "9a28e753-38a4-4e91-8d7d-ee779fa95cf2",
   "metadata": {},
   "source": [
    "# Problem 5"
   ]
  },
  {
   "cell_type": "code",
   "execution_count": 38,
   "id": "980ded88-da10-46af-a913-9cb8be79cdc9",
   "metadata": {},
   "outputs": [
    {
     "name": "stdout",
     "output_type": "stream",
     "text": [
      "Solution (Unknowns):\n",
      "[ 7.36462094 32.23826715 -1.62454874 15.05415162 16.93140794]\n"
     ]
    }
   ],
   "source": [
    "def solve_network_routing(A, B):\n",
    "    \"\"\"\n",
    "    Solves the system of linear equations A * X = B using matrix inversion.\n",
    "\n",
    "    Parameters:\n",
    "    A (numpy.ndarray): The coefficient matrix (n x n).\n",
    "    B (numpy.ndarray): The constant matrix (n x 1).\n",
    "\n",
    "    Returns:\n",
    "    numpy.ndarray: The solution vector X (n x 1).\n",
    "    \"\"\"\n",
    "    # Step 1: Check if the matrix A is invertible (determinant should not be zero)\n",
    "    det_A = np.linalg.det(A)\n",
    "    if det_A == 0:\n",
    "        print(\"Matrix A is singular and cannot be inverted!\")\n",
    "        return None\n",
    "    \n",
    "    # Step 2: Calculate the inverse of matrix A\n",
    "    A_inv = np.linalg.inv(A)\n",
    "    \n",
    "    # Step 3: Solve for X using the matrix inverse method (X = A^-1 * B)\n",
    "    X = np.dot(A_inv, B)\n",
    "    \n",
    "    # Step 4: Return the solution (unknowns)\n",
    "    return X\n",
    "\n",
    "# Example usage:\n",
    "if __name__ == \"__main__\":\n",
    "    # Coefficient matrix A (5x5 matrix)\n",
    "    A = np.array([\n",
    "        [3, 2, 1, 1, 0],\n",
    "        [1, 4, 2, 0, 1],\n",
    "        [2, 3, 4, 1, 0],\n",
    "        [1, 1, 3, 5, 0],\n",
    "        [0, 1, 2, 4, 3]\n",
    "    ])\n",
    "    \n",
    "    # Constant matrix B (5x1 matrix)\n",
    "    B = np.array([100, 150, 120, 110, 140])\n",
    "\n",
    "    # Solve the system of equations\n",
    "    solution = solve_network_routing(A, B)\n",
    "    \n",
    "    # If the solution is valid, print the results\n",
    "    if solution is not None:\n",
    "        print(\"Solution (Unknowns):\")\n",
    "        print(solution)\n"
   ]
  }
 ],
 "metadata": {
  "kernelspec": {
   "display_name": "Python 3 (ipykernel)",
   "language": "python",
   "name": "python3"
  },
  "language_info": {
   "codemirror_mode": {
    "name": "ipython",
    "version": 3
   },
   "file_extension": ".py",
   "mimetype": "text/x-python",
   "name": "python",
   "nbconvert_exporter": "python",
   "pygments_lexer": "ipython3",
   "version": "3.12.7"
  }
 },
 "nbformat": 4,
 "nbformat_minor": 5
}
